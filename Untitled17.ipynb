{
  "nbformat": 4,
  "nbformat_minor": 0,
  "metadata": {
    "colab": {
      "provenance": [],
      "authorship_tag": "ABX9TyMXIAJH/L84PI8bToJE25SS",
      "include_colab_link": true
    },
    "kernelspec": {
      "name": "python3",
      "display_name": "Python 3"
    },
    "language_info": {
      "name": "python"
    }
  },
  "cells": [
    {
      "cell_type": "markdown",
      "metadata": {
        "id": "view-in-github",
        "colab_type": "text"
      },
      "source": [
        "<a href=\"https://colab.research.google.com/github/Pujithakalluri/basic-codes/blob/main/Untitled17.ipynb\" target=\"_parent\"><img src=\"https://colab.research.google.com/assets/colab-badge.svg\" alt=\"Open In Colab\"/></a>"
      ]
    },
    {
      "cell_type": "code",
      "source": [
        "length = int(input())\n",
        "arr = list(map(int,input() split()))\n",
        "even_arr = []\n",
        "odd_arr = []\n",
        "for i in range(length):\n",
        "  if i % 2 == 0\n",
        "     even_arr.append(arr[i])\n",
        "  else:\n",
        "    odd_arr.append(arr[i])\n",
        "even_arr = sorted(even_arr)\n",
        "odd_arr = sorted(odd_arr)\n",
        "print(even_arr [len(even_arr-2)]+ odd_arr[len(odd_arr -2)])\n"
      ],
      "metadata": {
        "id": "EwjZVxb7rrKm"
      },
      "execution_count": null,
      "outputs": []
    },
    {
      "cell_type": "code",
      "source": [
        "import math\n",
        "n=int(input())\n",
        "r=n%10\n",
        "if r<=4:\n",
        "    print(rounddown(n))\n",
        "else:\n",
        "   print(roundoff(n))"
      ],
      "metadata": {
        "id": "joLIoVN_twlF"
      },
      "execution_count": null,
      "outputs": []
    },
    {
      "cell_type": "code",
      "source": [
        "num = 15\n",
        "if num > 0:\n",
        "  print(\"positive number\")\n",
        "elif num < 0:\n",
        "    print(\"zero\")\n",
        "else:\n",
        "    print(\"negative number\")"
      ],
      "metadata": {
        "id": "xFuADSD0eojX",
        "colab": {
          "base_uri": "https://localhost:8080/"
        },
        "outputId": "455efbcf-dfaa-4d1e-cd94-b5b36110f489"
      },
      "execution_count": 13,
      "outputs": [
        {
          "output_type": "stream",
          "name": "stdout",
          "text": [
            "positive number\n"
          ]
        }
      ]
    },
    {
      "cell_type": "code",
      "source": [
        "num = 5\n",
        "sum = 0\n",
        "for i in range(num+1):\n",
        "  sum = sum + i\n",
        "  print(sum)\n"
      ],
      "metadata": {
        "colab": {
          "base_uri": "https://localhost:8080/"
        },
        "id": "KJ4pnqlyhDAD",
        "outputId": "98b4ffe9-0a47-461a-d7bd-b4f15a78d92e"
      },
      "execution_count": 14,
      "outputs": [
        {
          "output_type": "stream",
          "name": "stdout",
          "text": [
            "0\n",
            "1\n",
            "3\n",
            "6\n",
            "10\n",
            "15\n"
          ]
        }
      ]
    },
    {
      "cell_type": "code",
      "source": [
        "num = 5\n",
        "fact = 1\n",
        "for i in range(1,num+1):\n",
        "  fact= fact*i\n",
        "  print(fact)"
      ],
      "metadata": {
        "colab": {
          "base_uri": "https://localhost:8080/"
        },
        "id": "-MD1qrW8hlq4",
        "outputId": "b541af50-7d3d-415f-e58d-ab9deace9981"
      },
      "execution_count": 15,
      "outputs": [
        {
          "output_type": "stream",
          "name": "stdout",
          "text": [
            "1\n",
            "2\n",
            "6\n",
            "24\n",
            "120\n"
          ]
        }
      ]
    },
    {
      "cell_type": "code",
      "source": [
        "a = int(input())\n",
        "b = int(input())\n",
        "c = a+b\n",
        "print()"
      ],
      "metadata": {
        "colab": {
          "base_uri": "https://localhost:8080/"
        },
        "id": "ZgWxn6dnh51n",
        "outputId": "24ddb8c0-62c7-4736-fc52-ef1ba325965d"
      },
      "execution_count": 17,
      "outputs": [
        {
          "output_type": "stream",
          "name": "stdout",
          "text": [
            "5\n",
            "12\n",
            "\n"
          ]
        }
      ]
    },
    {
      "cell_type": "code",
      "source": [
        "num = 6\n",
        "sum = 0\n",
        "for i in range(1,num+1):\n",
        "  sum = sum + i\n",
        "  print(sum)"
      ],
      "metadata": {
        "colab": {
          "base_uri": "https://localhost:8080/"
        },
        "id": "_oSDJwfzib7X",
        "outputId": "51ce0219-359c-40e9-c7f0-336f35366c9c"
      },
      "execution_count": 18,
      "outputs": [
        {
          "output_type": "stream",
          "name": "stdout",
          "text": [
            "1\n",
            "3\n",
            "6\n",
            "10\n",
            "15\n",
            "21\n"
          ]
        }
      ]
    },
    {
      "cell_type": "code",
      "source": [
        "num1 = 12\n",
        "num2 = 14\n",
        "sum = 0\n",
        "for i in range(num1,num2+1):\n",
        "  sum += sum+i\n",
        "  print(sum)"
      ],
      "metadata": {
        "colab": {
          "base_uri": "https://localhost:8080/"
        },
        "id": "tb2UAG9_jk__",
        "outputId": "61eaa2ab-a818-46eb-95a3-a78742b37792"
      },
      "execution_count": 22,
      "outputs": [
        {
          "output_type": "stream",
          "name": "stdout",
          "text": [
            "12\n",
            "37\n",
            "88\n"
          ]
        }
      ]
    },
    {
      "cell_type": "code",
      "source": [
        "num1 =23\n",
        "num2 = 26\n",
        "if num1 >num2:\n",
        "  print(num1)\n",
        "else:\n",
        "    print(num2)"
      ],
      "metadata": {
        "colab": {
          "base_uri": "https://localhost:8080/"
        },
        "id": "8BbQ55kyj9fH",
        "outputId": "9ac1010d-cd73-43d7-8294-e6a63b1f21ff"
      },
      "execution_count": 24,
      "outputs": [
        {
          "output_type": "stream",
          "name": "stdout",
          "text": [
            "26\n"
          ]
        }
      ]
    },
    {
      "cell_type": "code",
      "source": [
        "year = 2000\n",
        "\n",
        "if (year%400 == 0) or (year%4==0 and year%100!=0):\n",
        "    print(\"Leap Year\")\n",
        "else:\n",
        "    print(\"Not a Leap Year\")\n"
      ],
      "metadata": {
        "colab": {
          "base_uri": "https://localhost:8080/"
        },
        "id": "5ZieDnN6kyVo",
        "outputId": "f175552f-6013-42a7-cda6-3d230313e4d7"
      },
      "execution_count": 26,
      "outputs": [
        {
          "output_type": "stream",
          "name": "stdout",
          "text": [
            "Leap Year\n"
          ]
        }
      ]
    },
    {
      "cell_type": "code",
      "source": [
        "num = int(input())\n",
        "sum = 0\n",
        "for i in  num:\n",
        "  sum = num + i\n",
        "  print(sum)"
      ],
      "metadata": {
        "id": "ubw1V3KKnQ0p"
      },
      "execution_count": null,
      "outputs": []
    },
    {
      "cell_type": "code",
      "source": [
        "n = int(input())\n",
        "p = int(input())\n",
        "x = n**p\n",
        "print(x)"
      ],
      "metadata": {
        "id": "F2L6Ukd_pKh4"
      },
      "execution_count": null,
      "outputs": []
    }
  ]
}