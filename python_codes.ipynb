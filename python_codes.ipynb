{
  "cells": [
    {
      "cell_type": "markdown",
      "metadata": {
        "id": "view-in-github",
        "colab_type": "text"
      },
      "source": [
        "<a href=\"https://colab.research.google.com/github/Pujithakalluri/basic-codes/blob/main/python_codes.ipynb\" target=\"_parent\"><img src=\"https://colab.research.google.com/assets/colab-badge.svg\" alt=\"Open In Colab\"/></a>"
      ]
    },
    {
      "cell_type": "markdown",
      "metadata": {
        "id": "M0DDxsrolcUe"
      },
      "source": [
        "# rectangle code"
      ]
    },
    {
      "cell_type": "code",
      "execution_count": null,
      "metadata": {
        "colab": {
          "base_uri": "https://localhost:8080/"
        },
        "id": "nNWhOdZ2lh5g",
        "outputId": "5a86e3ea-16b8-4dee-c6d3-b228a0a5c0aa"
      },
      "outputs": [
        {
          "name": "stdout",
          "output_type": "stream",
          "text": [
            "3420\n"
          ]
        }
      ],
      "source": [
        "length = 45\n",
        "width = 76\n",
        "area = length * width\n",
        "\n",
        "print(area)\n"
      ]
    },
    {
      "cell_type": "markdown",
      "metadata": {
        "id": "qd1LrcGtlm0F"
      },
      "source": [
        "Addition of Variables\n"
      ]
    },
    {
      "cell_type": "code",
      "execution_count": null,
      "metadata": {
        "colab": {
          "base_uri": "https://localhost:8080/"
        },
        "id": "5mFL42Dalwe3",
        "outputId": "7de728f2-fe85-4382-f06b-d1ec20678269"
      },
      "outputs": [
        {
          "name": "stdout",
          "output_type": "stream",
          "text": [
            "43\n"
          ]
        }
      ],
      "source": [
        "a = 23\n",
        "b = 20\n",
        "print(a + b)"
      ]
    },
    {
      "cell_type": "markdown",
      "metadata": {
        "id": "wa_hJGBBl4qF"
      },
      "source": [
        "Float datatype\n"
      ]
    },
    {
      "cell_type": "code",
      "execution_count": null,
      "metadata": {
        "colab": {
          "base_uri": "https://localhost:8080/"
        },
        "id": "TWj0beQImAHv",
        "outputId": "d27f9e5c-a09e-4ce4-94c2-7fa0305a5924"
      },
      "outputs": [
        {
          "name": "stdout",
          "output_type": "stream",
          "text": [
            "248.71940000000004\n"
          ]
        }
      ],
      "source": [
        "pi = 3.14\n",
        "radius = 8.9\n",
        "\n",
        "area = pi * radius * radius\n",
        "\n",
        "print(area)\n"
      ]
    },
    {
      "cell_type": "markdown",
      "metadata": {
        "id": "0hhgPpC9mKEI"
      },
      "source": [
        "String Datatype\n"
      ]
    },
    {
      "cell_type": "code",
      "execution_count": null,
      "metadata": {
        "colab": {
          "base_uri": "https://localhost:8080/"
        },
        "id": "LrrWm51zmRA7",
        "outputId": "803a122f-658c-4817-d9e8-86a6db6a68e3"
      },
      "outputs": [
        {
          "name": "stdout",
          "output_type": "stream",
          "text": [
            "Learning is fun!\n"
          ]
        }
      ],
      "source": [
        "a = 'Learning'\n",
        "b = 'is fun!'\n",
        "\n",
        "print(a, b)\n"
      ]
    },
    {
      "cell_type": "markdown",
      "metadata": {
        "id": "jrIJ-HCpuofC"
      },
      "source": [
        "rat_food"
      ]
    },
    {
      "cell_type": "code",
      "execution_count": null,
      "metadata": {
        "colab": {
          "base_uri": "https://localhost:8080/",
          "height": 263
        },
        "id": "qbAv5ZBDzPcD",
        "outputId": "a56a0607-342e-45b0-c99e-832ae91314dc"
      },
      "outputs": [
        {
          "name": "stdout",
          "output_type": "stream",
          "text": [
            "enter number of rats: 7\n",
            "enter number of units: 2\n",
            "Number of elements in the array: 8\n",
            "List elements with space separeted: [2,8,3,5,7,4,1,2]\n"
          ]
        },
        {
          "ename": "ValueError",
          "evalue": "invalid literal for int() with base 10: '[2,8,3,5,7,4,1,2]'",
          "output_type": "error",
          "traceback": [
            "\u001b[0;31m---------------------------------------------------------------------------\u001b[0m",
            "\u001b[0;31mValueError\u001b[0m                                Traceback (most recent call last)",
            "\u001b[0;32m<ipython-input-9-97fda22127a0>\u001b[0m in \u001b[0;36m<cell line: 14>\u001b[0;34m()\u001b[0m\n\u001b[1;32m     12\u001b[0m \u001b[0munit\u001b[0m \u001b[0;34m=\u001b[0m \u001b[0mint\u001b[0m\u001b[0;34m(\u001b[0m\u001b[0minput\u001b[0m\u001b[0;34m(\u001b[0m\u001b[0;34m\"enter number of units: \"\u001b[0m\u001b[0;34m)\u001b[0m\u001b[0;34m)\u001b[0m\u001b[0;34m\u001b[0m\u001b[0;34m\u001b[0m\u001b[0m\n\u001b[1;32m     13\u001b[0m \u001b[0mn\u001b[0m \u001b[0;34m=\u001b[0m \u001b[0mint\u001b[0m\u001b[0;34m(\u001b[0m\u001b[0minput\u001b[0m\u001b[0;34m(\u001b[0m\u001b[0;34m\"Number of elements in the array: \"\u001b[0m\u001b[0;34m)\u001b[0m\u001b[0;34m)\u001b[0m\u001b[0;34m\u001b[0m\u001b[0;34m\u001b[0m\u001b[0m\n\u001b[0;32m---> 14\u001b[0;31m \u001b[0marr\u001b[0m \u001b[0;34m=\u001b[0m \u001b[0mlist\u001b[0m\u001b[0;34m(\u001b[0m\u001b[0mmap\u001b[0m\u001b[0;34m(\u001b[0m\u001b[0mint\u001b[0m\u001b[0;34m,\u001b[0m \u001b[0minput\u001b[0m\u001b[0;34m(\u001b[0m\u001b[0;34m\"List elements with space separeted: \"\u001b[0m\u001b[0;34m)\u001b[0m\u001b[0;34m.\u001b[0m\u001b[0msplit\u001b[0m\u001b[0;34m(\u001b[0m\u001b[0;34m)\u001b[0m\u001b[0;34m)\u001b[0m\u001b[0;34m)\u001b[0m\u001b[0;34m\u001b[0m\u001b[0;34m\u001b[0m\u001b[0m\n\u001b[0m\u001b[1;32m     15\u001b[0m \u001b[0mprint\u001b[0m\u001b[0;34m(\u001b[0m\u001b[0mcalculate\u001b[0m\u001b[0;34m(\u001b[0m\u001b[0mr\u001b[0m\u001b[0;34m,\u001b[0m \u001b[0marr\u001b[0m\u001b[0;34m,\u001b[0m \u001b[0mn\u001b[0m\u001b[0;34m)\u001b[0m\u001b[0;34m)\u001b[0m\u001b[0;34m\u001b[0m\u001b[0;34m\u001b[0m\u001b[0m\n",
            "\u001b[0;31mValueError\u001b[0m: invalid literal for int() with base 10: '[2,8,3,5,7,4,1,2]'"
          ]
        }
      ],
      "source": [
        "def calculate(r, unit, arr, n):\n",
        "    if arr is none or n == 0:\n",
        "       return -1\n",
        "    totalFoodRequired = r*unit\n",
        "    foodTillNow = 0\n",
        "    for house in range(n):\n",
        "        foodTillNow += arr[house]\n",
        "        if foodTillNow >= totalFoodRequired:\n",
        "            return house + 1\n",
        "    return 0\n",
        "r = int(input(\"enter number of rats: \"))\n",
        "unit = int(input(\"enter number of units: \"))\n",
        "n = int(input(\"Number of elements in the array: \"))\n",
        "arr = list(map(int, input(\"List elements with space separeted: \").split()))\n",
        "print(calculate(r, arr, n))"
      ]
    },
    {
      "cell_type": "markdown",
      "metadata": {
        "id": "PcpEWLJ7xCa5"
      },
      "source": [
        "# accenture perivious questions"
      ]
    },
    {
      "cell_type": "code",
      "execution_count": null,
      "metadata": {
        "colab": {
          "base_uri": "https://localhost:8080/"
        },
        "id": "BkJPM2GQxJ6D",
        "outputId": "733197a2-5a5f-4457-e249-b9d12482f347"
      },
      "outputs": [
        {
          "name": "stdout",
          "output_type": "stream",
          "text": [
            "7\n",
            "10\n"
          ]
        }
      ],
      "source": [
        "def SmallLargeSum(array):\n",
        "    if len(array) <= 3:\n",
        "        return 0\n",
        "\n",
        "    even_elements = [array[i] for i in range(len(array)) if i % 2 == 0]\n",
        "    odd_elements = [array[i] for i in range(len(array)) if i % 2 != 0]\n",
        "\n",
        "    if len(even_elements) < 2 or len(odd_elements) < 2:\n",
        "        return 0\n",
        "\n",
        "    even_elements.sort(reverse=True)\n",
        "    odd_elements.sort(reverse=True)\n",
        "\n",
        "    return even_elements[1] + odd_elements[1]\n",
        "\n",
        "\n",
        "print(SmallLargeSum([3, 2, 1, 7, 5, 4]))\n",
        "print(SmallLargeSum([4, 0, 7, 9, 6, 4, 2]))\n",
        "\n"
      ]
    },
    {
      "cell_type": "markdown",
      "metadata": {
        "id": "6nbsd9c8zxsp"
      },
      "source": [
        "# sum of natural number"
      ]
    },
    {
      "cell_type": "code",
      "execution_count": null,
      "metadata": {
        "colab": {
          "background_save": true,
          "base_uri": "https://localhost:8080/",
          "height": 106
        },
        "id": "LZI9C8Lwz5E-",
        "outputId": "e1426b2e-ca47-4ce1-c5df-24b4601ab166"
      },
      "outputs": [
        {
          "name": "stdout",
          "output_type": "stream",
          "text": [
            "21\n"
          ]
        }
      ],
      "source": [
        "num, sum = 6,0\n",
        "for i in range(number+1):\n",
        "  sum+=i\n",
        "print(sum)\n",
        "pr"
      ]
    },
    {
      "cell_type": "code",
      "source": [
        "def differenceofSum(a, b):\n",
        "    sum_not_divisible = 0\n",
        "    sum_divisible = 0\n",
        "\n",
        "    for i in range(1, a + 1):\n",
        "        if i % b == 0:\n",
        "            sum_divisible += i\n",
        "        else:\n",
        "            sum_not_divisible += i\n",
        "\n",
        "    return sum_not_divisible - sum_divisible\n",
        "\n",
        "\n",
        "a = 6\n",
        "b = 30\n",
        "result = differenceofSum(a, b)\n",
        "print(result)\n"
      ],
      "metadata": {
        "colab": {
          "base_uri": "https://localhost:8080/"
        },
        "id": "eHZ9uw1G95sC",
        "outputId": "5963d0bc-2436-40ce-a828-cfeeb4d0c80c"
      },
      "execution_count": null,
      "outputs": [
        {
          "output_type": "stream",
          "name": "stdout",
          "text": [
            "21\n"
          ]
        }
      ]
    },
    {
      "cell_type": "code",
      "source": [
        "def are_anagrams(str1, str2):\n",
        "    str1_sorted = sorted(str1.lower())\n",
        "    str2_sorted = sorted(str2.lower())\n",
        "\n",
        "\n",
        "    if str1_sorted == str2_sorted:\n",
        "        return 'yes'\n",
        "    else:\n",
        "        return 'no'\n",
        "\n",
        "str1 = \"learn\"\n",
        "str2 = \"simple\"\n",
        "result = are_anagrams(str1, str2)\n",
        "print(result)\n"
      ],
      "metadata": {
        "colab": {
          "base_uri": "https://localhost:8080/"
        },
        "id": "JvK0vbe4_BD7",
        "outputId": "f300b8d6-2dfa-4091-dafd-218188b81373"
      },
      "execution_count": null,
      "outputs": [
        {
          "output_type": "stream",
          "name": "stdout",
          "text": [
            "no\n"
          ]
        }
      ]
    },
    {
      "cell_type": "code",
      "source": [
        "str1 = \"learn\"\n",
        "str2 = \"simple\"\n",
        "if sorted(str1) == sorted(str2):\n",
        "  print(\"anagram\")\n",
        "else:\n",
        "    print(\"not anagram\")"
      ],
      "metadata": {
        "colab": {
          "base_uri": "https://localhost:8080/"
        },
        "id": "wWeXDPOj_RV6",
        "outputId": "b4babe70-a604-41d9-aa0a-578db2196788"
      },
      "execution_count": null,
      "outputs": [
        {
          "output_type": "stream",
          "name": "stdout",
          "text": [
            "not anagram\n"
          ]
        }
      ]
    },
    {
      "cell_type": "code",
      "source": [
        "def Productsmallpair(sum, arr):\n",
        "\n",
        "    if len(arr) < 2:\n",
        "        return -1\n",
        "\n",
        "\n",
        "    arr.sort()\n",
        "\n",
        "\n",
        "    smallest = arr[0]\n",
        "    second_smallest = arr[1]\n",
        "\n",
        "\n",
        "    if smallest + second_smallest < sum:\n",
        "        return smallest * second_smallest\n",
        "\n",
        "\n",
        "    return 0\n",
        "sum_val = 9\n",
        "arr = [5, 4, 2, 3, 9, 1, 7]\n",
        "print(Productsmallpair(sum_val, arr))\n"
      ],
      "metadata": {
        "colab": {
          "base_uri": "https://localhost:8080/"
        },
        "id": "rlIGGRDpBTgK",
        "outputId": "7d8ccb55-807d-4eaf-9d63-614a52eb4c0e"
      },
      "execution_count": null,
      "outputs": [
        {
          "output_type": "stream",
          "name": "stdout",
          "text": [
            "2\n"
          ]
        }
      ]
    },
    {
      "cell_type": "code",
      "source": [
        "def Productsmallpair(Sum,arr):\n",
        "    if len(arr) < 2:\n",
        "        return -1\n",
        "        arr.sort()\n",
        "        smallest = arr[0]\n",
        "        second_smallest = arr[1]\n",
        "        if smallest + second_smallest < sum:\n",
        "            return smallest * second_smallest\n",
        "            return 0\n",
        "            sum_val = 9\n",
        "            arr = [5,4,2,3,9,1,7]\n",
        "            print(Productsmallpair(sum_val, arr))"
      ],
      "metadata": {
        "id": "66m98PPiC-Px"
      },
      "execution_count": null,
      "outputs": []
    },
    {
      "cell_type": "code",
      "source": [
        "def replace_character(str1, ch1, ch2):\n",
        "\n",
        "    result = []\n",
        "    for char in str1:\n",
        "        if char == ch1:\n",
        "            result.append(ch2)\n",
        "        elif char == ch2:\n",
        "            result.append(ch1)\n",
        "        else:\n",
        "            result.append(char)\n",
        "\n",
        "\n",
        "    return ''.join(result)\n",
        "\n",
        "\n",
        "str1 = \"tervpro\"\n",
        "ch1 = \"e\"\n",
        "ch2 = \"p\"\n",
        "output = replace_character(str1, ch1, ch2)\n",
        "print(output)\n"
      ],
      "metadata": {
        "colab": {
          "base_uri": "https://localhost:8080/"
        },
        "id": "OU5uy0074c0r",
        "outputId": "81fe34a5-ebc9-41f5-f511-05a12ed79b4f"
      },
      "execution_count": null,
      "outputs": [
        {
          "output_type": "stream",
          "name": "stdout",
          "text": [
            "tprvero\n"
          ]
        }
      ]
    },
    {
      "cell_type": "code",
      "source": [
        "def min_houses_for_rats(r, unit, arr):\n",
        "    if not arr: return -1\n",
        "    total_food_required = r * unit\n",
        "    accumulated_food = 0\n",
        "\n",
        "    for i, food in enumerate(arr):\n",
        "        accumulated_food += food\n",
        "        if accumulated_food >= total_food_required:\n",
        "            return i + 1\n",
        "\n",
        "    return 0\n",
        "\n",
        "\n",
        "print(min_houses_for_rats(7, 2, [2, 8, 3, 5, 7, 4, 1, 2]))\n"
      ],
      "metadata": {
        "colab": {
          "base_uri": "https://localhost:8080/"
        },
        "id": "uo9l8uiH7TOr",
        "outputId": "d9012045-9424-4a31-c3a3-ae98c0498513"
      },
      "execution_count": null,
      "outputs": [
        {
          "output_type": "stream",
          "name": "stdout",
          "text": [
            "4\n"
          ]
        }
      ]
    },
    {
      "cell_type": "code",
      "source": [
        "str=input()\n",
        "words=str.split()\n",
        "rev_words=words[::-1]\n",
        "print(\" \".join(rev_words))"
      ],
      "metadata": {
        "colab": {
          "base_uri": "https://localhost:8080/"
        },
        "id": "mEytv221-Xl3",
        "outputId": "b2b2274f-6784-42db-ba53-8dedefb24fb7"
      },
      "execution_count": null,
      "outputs": [
        {
          "output_type": "stream",
          "name": "stdout",
          "text": [
            "tervpro\n",
            "tervpro\n"
          ]
        }
      ]
    },
    {
      "cell_type": "code",
      "source": [
        "def find_count(arr,num,diff):\n",
        "  count=0\n",
        "  for i in arr:\n",
        "        if abs(i - num) <= diff:\n",
        "            count += 1\n",
        "  if count>0:\n",
        "    return count\n",
        "  else:\n",
        "    return -1\n",
        "arr=list(map(int,input().split()))\n",
        "num=int(input())\n",
        "diff=int(input())\n",
        "print(find_count(arr,num,diff))"
      ],
      "metadata": {
        "id": "3Wf4P5D8-jTQ"
      },
      "execution_count": null,
      "outputs": []
    },
    {
      "cell_type": "code",
      "source": [
        "def replace_char(s):\n",
        "  temp=\"\"\n",
        "  for i in s:\n",
        "    if i==\"e\":\n",
        "      temp+=\"p\"\n",
        "    elif i==\"p\":\n",
        "      temp+='e'\n",
        "    else:\n",
        "      temp+=i\n",
        "  return temp\n",
        "s=input()\n",
        "print(replace_char(s))"
      ],
      "metadata": {
        "id": "IftQWneQB1nM"
      },
      "execution_count": null,
      "outputs": []
    },
    {
      "cell_type": "code",
      "source": [
        "def DectoNBase(n, num):\n",
        "    notation = \"0123456789ABCDEFGHIJKLMNOPQRSTUVWXYZ\"\n",
        "    result = \"\"\n",
        "    while num > 0:\n",
        "        remainder = num % n\n",
        "        result = notation[remainder] + result\n",
        "        num = num // n\n",
        "    return result\n",
        "n = int(input())\n",
        "num = int(input())\n",
        "print(DectoNBase(n, num))"
      ],
      "metadata": {
        "id": "x2rPF2Gcfqv6"
      },
      "execution_count": null,
      "outputs": []
    },
    {
      "cell_type": "code",
      "source": [
        "n = int(input())\n",
        "arr = list(map(int,input().split()))\n",
        "even_arr = []\n",
        "odd_arr = []\n",
        "for i in range(n):\n",
        "    if i%2==0:\n",
        "        even_arr.append(arr[i])\n",
        "    else:\n",
        "        odd_arr.append(arr[i])\n",
        "even_arr.sort()\n",
        "odd_arr.sort()\n",
        "sum = even_arr[-2]+odd_arr[-2]\n",
        "print(sum)"
      ],
      "metadata": {
        "id": "JlKpYWaVfuj1"
      },
      "execution_count": null,
      "outputs": []
    },
    {
      "cell_type": "code",
      "source": [
        "def Calculate(m,n):\n",
        "    sum = 0\n",
        "    for i in range(m,n+1):\n",
        "        if i%3==0 and i%5== 0:\n",
        "            sum += i\n",
        "    return sum\n",
        "m = int(input())\n",
        "n = int(input())\n",
        "print(Calculate(m,n))"
      ],
      "metadata": {
        "id": "-6u2QD6Of1C-"
      },
      "execution_count": null,
      "outputs": []
    },
    {
      "cell_type": "code",
      "source": [
        "def lcs(S1, S2):\n",
        "    res = []\n",
        "    for i in S1:\n",
        "        if i in S2:\n",
        "            res.append(i)\n",
        "    res = set(res)\n",
        "    return len(res)\n",
        "S1 = input()\n",
        "S2 = input()\n",
        "print(lcs(S1, S2))"
      ],
      "metadata": {
        "id": "OY0bxvUjgFs9"
      },
      "execution_count": null,
      "outputs": []
    }
  ],
  "metadata": {
    "colab": {
      "provenance": [],
      "authorship_tag": "ABX9TyO2pDZa1ct36y8oi99XzaIn",
      "include_colab_link": true
    },
    "kernelspec": {
      "display_name": "Python 3",
      "name": "python3"
    },
    "language_info": {
      "name": "python"
    }
  },
  "nbformat": 4,
  "nbformat_minor": 0
}