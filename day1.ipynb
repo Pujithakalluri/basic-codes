{
  "cells": [
    {
      "cell_type": "markdown",
      "metadata": {
        "id": "view-in-github",
        "colab_type": "text"
      },
      "source": [
        "<a href=\"https://colab.research.google.com/github/Pujithakalluri/basic-codes/blob/main/day1.ipynb\" target=\"_parent\"><img src=\"https://colab.research.google.com/assets/colab-badge.svg\" alt=\"Open In Colab\"/></a>"
      ]
    },
    {
      "cell_type": "code",
      "execution_count": null,
      "metadata": {
        "colab": {
          "base_uri": "https://localhost:8080/"
        },
        "id": "JVCXFtQB1zDs",
        "outputId": "8ebdc986-738f-4dc6-f21b-dd1d65d9b160"
      },
      "outputs": [
        {
          "name": "stdout",
          "output_type": "stream",
          "text": [
            "string_compare\n",
            "string_compare\n"
          ]
        }
      ],
      "source": [
        "str = input()\n",
        "count = 0\n",
        "string = \"\"\n",
        "for i in str:\n",
        "    if i == \"-\":\n",
        "        count += 1\n",
        "    else:\n",
        "        string += i\n",
        "print(\"-\"*count+string)"
      ]
    },
    {
      "cell_type": "code",
      "execution_count": null,
      "metadata": {
        "colab": {
          "background_save": true
        },
        "id": "mkdiDsXx2IfG",
        "outputId": "070725a8-21cc-47f9-cf83-9fdcb97fce57"
      },
      "outputs": [
        {
          "ename": "SyntaxError",
          "evalue": "invalid syntax (<ipython-input-2-15029effd5f1>, line 1)",
          "output_type": "error",
          "traceback": [
            "\u001b[0;36m  File \u001b[0;32m\"<ipython-input-2-15029effd5f1>\"\u001b[0;36m, line \u001b[0;32m1\u001b[0m\n\u001b[0;31m    longest_palindrome_sebsequence(s):\u001b[0m\n\u001b[0m                                     ^\u001b[0m\n\u001b[0;31mSyntaxError\u001b[0m\u001b[0;31m:\u001b[0m invalid syntax\n"
          ]
        }
      ],
      "source": [
        "longest_palindrome_sebsequence(s):\n",
        "   if len(s)==0:\n",
        "    return 0\n",
        "    if len(s)==1:\n",
        "        return1\n",
        "    if s[0]==s[-1]:\n",
        "        return longest_palindrome_subsequence(s[1:-1])"
      ]
    }
  ],
  "metadata": {
    "colab": {
      "provenance": [],
      "authorship_tag": "ABX9TyPB1dpwFZC1UIlbExjnigZR",
      "include_colab_link": true
    },
    "kernelspec": {
      "display_name": "Python 3",
      "name": "python3"
    },
    "language_info": {
      "name": "python"
    }
  },
  "nbformat": 4,
  "nbformat_minor": 0
}