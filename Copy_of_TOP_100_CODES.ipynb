{
  "nbformat": 4,
  "nbformat_minor": 0,
  "metadata": {
    "colab": {
      "provenance": [],
      "authorship_tag": "ABX9TyMl90cFdKXYpavj0NuJWHEL",
      "include_colab_link": true
    },
    "kernelspec": {
      "name": "python3",
      "display_name": "Python 3"
    },
    "language_info": {
      "name": "python"
    }
  },
  "cells": [
    {
      "cell_type": "markdown",
      "metadata": {
        "id": "view-in-github",
        "colab_type": "text"
      },
      "source": [
        "<a href=\"https://colab.research.google.com/github/Pujithakalluri/basic-codes/blob/main/Copy_of_TOP_100_CODES.ipynb\" target=\"_parent\"><img src=\"https://colab.research.google.com/assets/colab-badge.svg\" alt=\"Open In Colab\"/></a>"
      ]
    },
    {
      "cell_type": "markdown",
      "source": [
        "even number or not by using if and else"
      ],
      "metadata": {
        "id": "gxFcqUTZ4lP4"
      }
    },
    {
      "cell_type": "code",
      "source": [
        "num = int(input(\"Enter a Number:\"))\n",
        "if num % 2 == 0:\n",
        "  print(\"Given number is Even\")\n",
        "else:\n",
        "  print(\"Given number is Odd\")\n"
      ],
      "metadata": {
        "colab": {
          "base_uri": "https://localhost:8080/"
        },
        "id": "dHro2l2T4uGV",
        "outputId": "a7b0fc68-0bc7-4f96-e809-a9ee43847dae"
      },
      "execution_count": null,
      "outputs": [
        {
          "output_type": "stream",
          "name": "stdout",
          "text": [
            "Enter a Number:21\n",
            "Given number is Odd\n"
          ]
        }
      ]
    },
    {
      "cell_type": "markdown",
      "source": [
        "ternary operation"
      ],
      "metadata": {
        "id": "nsEJfN_D4xNK"
      }
    },
    {
      "cell_type": "code",
      "source": [
        "num = 17\n",
        "print(\"Even\") if num%2 == 0 else print(\"Odd\")\n"
      ],
      "metadata": {
        "colab": {
          "base_uri": "https://localhost:8080/"
        },
        "id": "QoOSD7ik425g",
        "outputId": "061613b4-28d1-4735-cdf8-59f753a6a026"
      },
      "execution_count": null,
      "outputs": [
        {
          "output_type": "stream",
          "name": "stdout",
          "text": [
            "Odd\n"
          ]
        }
      ]
    },
    {
      "cell_type": "markdown",
      "source": [
        "Using Bitwise Operator"
      ],
      "metadata": {
        "id": "Czs_4a8f4-Ek"
      }
    },
    {
      "cell_type": "code",
      "source": [
        "def isEven(num):\n",
        "  return not num&1\n",
        "\n",
        "if __name__ == \"__main__\":\n",
        "  num = 13\n",
        "  if isEven(num):\n",
        "    print('Even')\n",
        "  else:\n",
        "    print('Odd')\n"
      ],
      "metadata": {
        "colab": {
          "base_uri": "https://localhost:8080/"
        },
        "id": "uvTkqzuz5G_6",
        "outputId": "470b61f4-35e2-4f87-80a8-a55a1e329385"
      },
      "execution_count": null,
      "outputs": [
        {
          "output_type": "stream",
          "name": "stdout",
          "text": [
            "Odd\n"
          ]
        }
      ]
    },
    {
      "cell_type": "markdown",
      "source": [
        "Python Program to check if a Number Is Positive Or Negative\n"
      ],
      "metadata": {
        "id": "Hz01Yt535OI3"
      }
    },
    {
      "cell_type": "code",
      "source": [
        "num = 15\n",
        "if num > 0:\n",
        "    print('Positive')\n",
        "elif num < 0:\n",
        "    print('Negative')\n",
        "else:\n",
        "    print('Zero')"
      ],
      "metadata": {
        "colab": {
          "base_uri": "https://localhost:8080/"
        },
        "id": "8m1wptQu5USZ",
        "outputId": "c727db81-40af-42dd-9b4b-6898714b66b4"
      },
      "execution_count": null,
      "outputs": [
        {
          "output_type": "stream",
          "name": "stdout",
          "text": [
            "Positive\n"
          ]
        }
      ]
    },
    {
      "cell_type": "markdown",
      "source": [
        "Using Nested if-else Statements"
      ],
      "metadata": {
        "id": "bgR9ncHe5Wv-"
      }
    },
    {
      "cell_type": "code",
      "source": [
        "num = 15\n",
        "if num > 0:\n",
        "    print('Positive')\n",
        "elif num < 0:\n",
        "    print('Negative')\n",
        "else:\n",
        "    print('Zero')"
      ],
      "metadata": {
        "colab": {
          "base_uri": "https://localhost:8080/"
        },
        "id": "LW-lBt1u5iOG",
        "outputId": "b319a6c4-6ef6-42e0-cd60-00e57ffed50d"
      },
      "execution_count": null,
      "outputs": [
        {
          "output_type": "stream",
          "name": "stdout",
          "text": [
            "Positive\n"
          ]
        }
      ]
    },
    {
      "cell_type": "markdown",
      "source": [
        "Using Ternary Operator"
      ],
      "metadata": {
        "id": "38lZA3h5566y"
      }
    },
    {
      "cell_type": "code",
      "source": [
        "num = 15\n",
        "print('positive') if num >  0 else print('negative') if num < 0 else print('zero')"
      ],
      "metadata": {
        "colab": {
          "base_uri": "https://localhost:8080/"
        },
        "id": "-ShFyd0e6CpL",
        "outputId": "9e9f18ed-4286-41fd-e916-99dd2f7f9d9e"
      },
      "execution_count": null,
      "outputs": [
        {
          "output_type": "stream",
          "name": "stdout",
          "text": [
            "positive\n"
          ]
        }
      ]
    },
    {
      "cell_type": "markdown",
      "source": [
        "sum of first n natural numbeers"
      ],
      "metadata": {
        "id": "4bMNSl_26dLr"
      }
    },
    {
      "cell_type": "code",
      "source": [
        "num = 5\n",
        "sum = 0\n",
        "for i in range(num+1):\n",
        "  sum+=i\n",
        "print(sum)"
      ],
      "metadata": {
        "colab": {
          "base_uri": "https://localhost:8080/"
        },
        "id": "kOfvL7Ch6nx0",
        "outputId": "c86f0e81-58cd-481d-db3c-62991e6ff104"
      },
      "execution_count": null,
      "outputs": [
        {
          "output_type": "stream",
          "name": "stdout",
          "text": [
            "15\n"
          ]
        }
      ]
    },
    {
      "cell_type": "markdown",
      "source": [
        "by using formula"
      ],
      "metadata": {
        "id": "ko7IpB6h8D9R"
      }
    },
    {
      "cell_type": "code",
      "source": [
        "num = 15\n",
        "print(int(num*(num+1)/2))"
      ],
      "metadata": {
        "colab": {
          "base_uri": "https://localhost:8080/"
        },
        "id": "dpHgb9_78GwF",
        "outputId": "82451603-ace8-470a-dc5e-1fc986946733"
      },
      "execution_count": null,
      "outputs": [
        {
          "output_type": "stream",
          "name": "stdout",
          "text": [
            "120\n"
          ]
        }
      ]
    },
    {
      "cell_type": "markdown",
      "source": [
        "automorphic number"
      ],
      "metadata": {
        "id": "J5LWzaSe8dSX"
      }
    },
    {
      "cell_type": "code",
      "source": [
        "n=int(input())\n",
        "m=n*n\n",
        "num = m % 10\n",
        "if num == n:\n",
        "  print(\"automorphic\")\n",
        "else:\n",
        "  print(\"not automorphic\")\n"
      ],
      "metadata": {
        "colab": {
          "base_uri": "https://localhost:8080/"
        },
        "id": "Zuiv7ZffyYUA",
        "outputId": "26d15d6d-96b7-487c-e2fa-ad450215e329"
      },
      "execution_count": null,
      "outputs": [
        {
          "output_type": "stream",
          "name": "stdout",
          "text": [
            "5\n",
            "automorphic\n"
          ]
        }
      ]
    },
    {
      "cell_type": "markdown",
      "source": [
        "Python Program to check Abundant Number"
      ],
      "metadata": {
        "id": "QSdqUcKoz9UT"
      }
    },
    {
      "cell_type": "markdown",
      "source": [
        "harshed number"
      ],
      "metadata": {
        "id": "hXS6C-oJ2biy"
      }
    },
    {
      "cell_type": "code",
      "source": [
        "n = 21\n",
        "p=n\n",
        "sum1=0\n",
        "while(n>0):\n",
        "    sum1+=n%10\n",
        "    n=n//10\n",
        "if(p%sum1==0):\n",
        "    print(\"Harshad number\")\n",
        "else:\n",
        "    print(\"Not harshad number\")"
      ],
      "metadata": {
        "id": "vk6QKQS55DNe"
      },
      "execution_count": null,
      "outputs": []
    },
    {
      "cell_type": "code",
      "source": [
        "num1 = 36\n",
        "num2 = 60\n",
        "hcf = 1\n",
        "\n",
        "for i in range(1, min(num1, num2)):\n",
        "    if num1 % i == 0 and num2 % i == 0:\n",
        "        hcf = i\n",
        "print(\"Hcf of\", num1, \"and\", num2, \"is\", hcf)"
      ],
      "metadata": {
        "colab": {
          "base_uri": "https://localhost:8080/"
        },
        "id": "4siZQhgVWX69",
        "outputId": "dba52c09-3403-44cd-853b-c08577606c23"
      },
      "execution_count": 1,
      "outputs": [
        {
          "output_type": "stream",
          "name": "stdout",
          "text": [
            "Hcf of 36 and 60 is 12\n"
          ]
        }
      ]
    },
    {
      "cell_type": "code",
      "source": [
        "num1 = 36\n",
        "num2 = 60\n",
        "a = num1\n",
        "b = num2\n",
        "\n",
        "while num1 != num2:\n",
        "    if num1 > num2:\n",
        "        num1 -= num2\n",
        "    else:\n",
        "        num2 -= num1\n",
        "\n",
        "print(\"Hcf of\", a, \"and\", b, \"is\", num1)"
      ],
      "metadata": {
        "colab": {
          "base_uri": "https://localhost:8080/"
        },
        "id": "aZONv57uWde3",
        "outputId": "b57d00d8-3515-47a7-e3d4-29995a1920a4"
      },
      "execution_count": 2,
      "outputs": [
        {
          "output_type": "stream",
          "name": "stdout",
          "text": [
            "Hcf of 36 and 60 is 12\n"
          ]
        }
      ]
    },
    {
      "cell_type": "code",
      "source": [
        "num1 = 12\n",
        "num2 = 14\n",
        "for i in range(max(num1, num2), 1 + (num1 * num2)):\n",
        "    if i % num1 == i % num2 == 0:\n",
        "        lcm = i\n",
        "        break\n",
        "print(\"LCM of\", num1, \"and\", num2, \"is\", lcm)"
      ],
      "metadata": {
        "colab": {
          "base_uri": "https://localhost:8080/"
        },
        "id": "-T7kZNpOWlbl",
        "outputId": "591af3ee-8ace-4cbc-9d46-f38c88dac814"
      },
      "execution_count": 3,
      "outputs": [
        {
          "output_type": "stream",
          "name": "stdout",
          "text": [
            "LCM of 12 and 14 is 84\n"
          ]
        }
      ]
    },
    {
      "cell_type": "code",
      "source": [
        "num1 = 12\n",
        "num2 = 14\n",
        "for i in range(max(num1, num2), 1 + (num1 * num2), max(num1, num2)):\n",
        "    if i % num1 == i % num2 == 0:\n",
        "        lcm = i\n",
        "        break\n",
        "\n",
        "print(\"LCM of\", num1, \"and\", num2, \"is\", lcm)"
      ],
      "metadata": {
        "colab": {
          "base_uri": "https://localhost:8080/"
        },
        "id": "EXUnAYiSWqx9",
        "outputId": "ab1b20dd-2ea1-41cf-e774-9dfa8934c71e"
      },
      "execution_count": 4,
      "outputs": [
        {
          "output_type": "stream",
          "name": "stdout",
          "text": [
            "LCM of 12 and 14 is 84\n"
          ]
        }
      ]
    },
    {
      "cell_type": "code",
      "source": [
        "num1 = 36\n",
        "num2 = 60\n",
        "gcd = 1\n",
        "\n",
        "for i in range(1, min(num1, num2)):\n",
        "    if num1 % i == 0 and num2 % i == 0:\n",
        "        gcd = i\n",
        "print(\"GCD of\", num1, \"and\", num2, \"is\", gcd)"
      ],
      "metadata": {
        "colab": {
          "base_uri": "https://localhost:8080/"
        },
        "id": "lFqCRDA6W0WN",
        "outputId": "47e86b45-752b-4d32-fed5-cc1faf04f4b8"
      },
      "execution_count": 5,
      "outputs": [
        {
          "output_type": "stream",
          "name": "stdout",
          "text": [
            "GCD of 36 and 60 is 12\n"
          ]
        }
      ]
    },
    {
      "cell_type": "code",
      "source": [
        "num1 = 36\n",
        "num2 = 60\n",
        "a = num1\n",
        "b = num2\n",
        "\n",
        "while num1 != num2:\n",
        "    if num1 > num2:\n",
        "        num1 -= num2\n",
        "    else:\n",
        "        num2 -= num1\n",
        "\n",
        "print(\"GCD of\", a, \"and\", b, \"is\", num1)"
      ],
      "metadata": {
        "colab": {
          "base_uri": "https://localhost:8080/"
        },
        "id": "h9UwsSYyW7Ao",
        "outputId": "71654dd1-57fa-4997-cb40-404150d5c9a0"
      },
      "execution_count": 6,
      "outputs": [
        {
          "output_type": "stream",
          "name": "stdout",
          "text": [
            "GCD of 36 and 60 is 12\n"
          ]
        }
      ]
    }
  ]
}